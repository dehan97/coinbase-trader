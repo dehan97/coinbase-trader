{
 "cells": [
  {
   "cell_type": "code",
   "execution_count": null,
   "metadata": {},
   "outputs": [],
   "source": [
    "from datetime import datetime, timedelta\n",
    "import pandas as pd\n",
    "import sqlite3\n",
    "from concurrent.futures import ThreadPoolExecutor, as_completed\n",
    "from tqdm import tqdm\n",
    "import matplotlib.pyplot as plt\n",
    "import ta\n",
    "import yfinance as yf\n",
    "import seaborn as sns\n",
    "import numpy as np\n",
    "from queue import Queue\n",
    "import holidays\n",
    "import scipy as sp\n",
    "from itertools import combinations\n",
    "from pymongo import MongoClient\n",
    "\n",
    "from sklearn.decomposition import PCA\n",
    "from sklearn.preprocessing import StandardScaler\n",
    "from sklearn.impute import SimpleImputer\n",
    "from sklearn.compose import ColumnTransformer\n",
    "from sklearn.pipeline import Pipeline\n",
    "from sklearn.preprocessing import OneHotEncoder"
   ]
  },
  {
   "cell_type": "code",
   "execution_count": null,
   "metadata": {},
   "outputs": [],
   "source": [
    "from helper.client import *\n",
    "from helper.machinelearner import *\n",
    "from helper.dbmgr import *\n",
    "from helper.dataprocessor import *\n",
    "\n",
    "# Create an instance of CoinbaseClient\n",
    "client = CoinbaseClient(api_key, api_secret)"
   ]
  },
  {
   "cell_type": "markdown",
   "metadata": {},
   "source": [
    "# Get and format data from CB"
   ]
  },
  {
   "cell_type": "code",
   "execution_count": null,
   "metadata": {},
   "outputs": [],
   "source": [
    "# import pymongo\n",
    "\n",
    "# myclient = pymongo.MongoClient(\"mongodb://localhost:27017/\")\n",
    "# mydb = myclient[\"mydatabase\"]\n",
    "# mycol = mydb[\"customers\"]\n",
    "# mydict = { \"name\": \"John\", \"address\": \"Highway 37\" }\n",
    "\n",
    "# x = mycol.insert_one(mydict)\n",
    "\n",
    "# print(x.inserted_id)"
   ]
  },
  {
   "cell_type": "code",
   "execution_count": null,
   "metadata": {},
   "outputs": [],
   "source": [
    "# unique_pids = client.get_unique_product_ids()\n",
    "# unique_pids = [f\"{i}-{'USDC'}\" for i in unique_pids]\n",
    "\n",
    "# start_time = datetime(2024, 2, 1)\n",
    "# end_time = datetime(2024, 2, 15)\n",
    "\n",
    "# db_manager = DatabaseManager(start_time=start_time, end_time=end_time)\n",
    "# print(db_manager.check_row_counts())\n",
    "\n",
    "# db_manager.main(unique_pids)"
   ]
  },
  {
   "cell_type": "markdown",
   "metadata": {},
   "source": [
    "# Data Processing"
   ]
  },
  {
   "cell_type": "code",
   "execution_count": null,
   "metadata": {},
   "outputs": [],
   "source": [
    "db_uri = 'mongodb://localhost:27017/'  # Replace this with your actual MongoDB URI\n",
    "db_name = 'crypto_data'  # Replace this with your actual database name\n",
    "\n",
    "# Initialize the FeatureEngineer instance\n",
    "feature_engineer = FeatureEngineer(db_uri=db_uri, db_name=db_name)\n",
    "\n",
    "# Now you can call any methods you have defined in your class. For example:\n",
    "feature_engineer.run_feature_engineering()\n"
   ]
  },
  {
   "cell_type": "code",
   "execution_count": null,
   "metadata": {},
   "outputs": [],
   "source": []
  }
 ],
 "metadata": {
  "kernelspec": {
   "display_name": "cbtrader",
   "language": "python",
   "name": "python3"
  },
  "language_info": {
   "codemirror_mode": {
    "name": "ipython",
    "version": 3
   },
   "file_extension": ".py",
   "mimetype": "text/x-python",
   "name": "python",
   "nbconvert_exporter": "python",
   "pygments_lexer": "ipython3",
   "version": "3.8.18"
  }
 },
 "nbformat": 4,
 "nbformat_minor": 2
}
