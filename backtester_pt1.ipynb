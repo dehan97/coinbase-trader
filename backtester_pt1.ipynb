{
 "cells": [
  {
   "cell_type": "code",
   "execution_count": 18,
   "metadata": {},
   "outputs": [],
   "source": [
    "from datetime import datetime, timedelta\n",
    "import pandas as pd\n",
    "import sqlite3\n",
    "from concurrent.futures import ThreadPoolExecutor, as_completed\n",
    "from tqdm import tqdm\n",
    "import matplotlib.pyplot as plt\n",
    "import ta\n",
    "import yfinance as yf\n",
    "import seaborn as sns\n",
    "import numpy as np\n",
    "from queue import Queue\n",
    "import holidays\n",
    "import scipy as sp\n",
    "from itertools import combinations\n",
    "from pymongo import MongoClient\n",
    "import swifter\n",
    "\n",
    "from sklearn.decomposition import PCA\n",
    "from sklearn.preprocessing import StandardScaler\n",
    "from sklearn.impute import SimpleImputer\n",
    "from sklearn.compose import ColumnTransformer\n",
    "from sklearn.pipeline import Pipeline\n",
    "from sklearn.preprocessing import OneHotEncoder"
   ]
  },
  {
   "cell_type": "code",
   "execution_count": 19,
   "metadata": {},
   "outputs": [],
   "source": [
    "from helper.client import *\n",
    "from helper.machinelearner import *\n",
    "from helper.dbmgr import *\n",
    "from helper.dataprocessor import *\n",
    "\n",
    "# Create an instance of CoinbaseClient\n",
    "client = CoinbaseClient(api_key, api_secret)"
   ]
  },
  {
   "cell_type": "code",
   "execution_count": 20,
   "metadata": {},
   "outputs": [],
   "source": [
    "db_uri = 'mongodb://localhost:27017/'  \n",
    "db_name = 'crypto_data'  "
   ]
  },
  {
   "cell_type": "markdown",
   "metadata": {},
   "source": [
    "# Get and format data from CB"
   ]
  },
  {
   "cell_type": "code",
   "execution_count": 21,
   "metadata": {},
   "outputs": [
    {
     "name": "stdout",
     "output_type": "stream",
     "text": [
      "65e8334ff203e96a0163b6b2\n"
     ]
    }
   ],
   "source": [
    "import pymongo\n",
    "\n",
    "myclient = pymongo.MongoClient(\"mongodb://localhost:27017/\")\n",
    "mydb = myclient[\"mydatabase\"]\n",
    "mycol = mydb[\"customers\"]\n",
    "mydict = { \"name\": \"John\", \"address\": \"Highway 37\" }\n",
    "\n",
    "x = mycol.insert_one(mydict)\n",
    "\n",
    "print(x.inserted_id)"
   ]
  },
  {
   "cell_type": "code",
   "execution_count": 22,
   "metadata": {},
   "outputs": [],
   "source": [
    "# unique_pids = client.get_unique_product_ids()\n",
    "# unique_pids = [f\"{i}-{'USDC'}\" for i in unique_pids]\n",
    "\n",
    "# # start_time = datetime(2022, 10, 1)\n",
    "# start_time = datetime(2024, 1, 1)\n",
    "# end_time = datetime(2024, 2, 29)\n",
    "\n",
    "# db_manager = DatabaseManager(start_time=start_time, end_time=end_time)\n",
    "# print(db_manager.check_row_counts())\n",
    "\n",
    "# db_manager.main(unique_pids)"
   ]
  },
  {
   "cell_type": "markdown",
   "metadata": {},
   "source": [
    "# Technical Indicator creation"
   ]
  },
  {
   "cell_type": "code",
   "execution_count": 23,
   "metadata": {},
   "outputs": [],
   "source": [
    "# fe = FeatureEngineer(db_name)\n",
    "# processed_data = fe.run()"
   ]
  },
  {
   "cell_type": "markdown",
   "metadata": {},
   "source": [
    "# Preprocessing creation\n",
    "- Labels\n",
    "- Scaling\n",
    "- Normalisation\n",
    "- Stationary features"
   ]
  },
  {
   "cell_type": "code",
   "execution_count": 24,
   "metadata": {},
   "outputs": [],
   "source": [
    "# data_preparator = DataPreparator(db_name)\n",
    "\n",
    "# # Prepare the data\n",
    "# final_data, non_stationary_columns = data_preparator.prepare_data()"
   ]
  },
  {
   "cell_type": "code",
   "execution_count": 25,
   "metadata": {},
   "outputs": [],
   "source": [
    "label_generator = LabelGenerator(\n",
    "    mongo_uri='mongodb://localhost:27017/',\n",
    "    db_name='crypto_data',\n",
    "    account_value=5000,\n",
    "    tx_fee=0.006,\n",
    "    profit_level=0.003\n",
    ")\n",
    "\n",
    "# Now, call the run method to start the label generation process\n",
    "label_generator.run()"
   ]
  },
  {
   "cell_type": "markdown",
   "metadata": {},
   "source": [
    "# Machine Learning on one set of parameters\n",
    "- Grid Search for best parameters\n",
    "- view feature importance on the best set and trim"
   ]
  },
  {
   "cell_type": "code",
   "execution_count": null,
   "metadata": {},
   "outputs": [],
   "source": [
    "mongo_uri = 'mongodb://localhost:27017/'  # Adjust as necessary\n",
    "db_name = 'crypto_data'  # Your database name\n",
    "collection_name = 'labeled_crypto_data'  # Your collection name\n",
    "target_column = 'target15'  # Your target column name\n",
    "\n",
    "trainer = MongoDBMLModelTrainer(mongo_uri, db_name, collection_name, target_column)\n",
    "trainer.train_and_evaluate()"
   ]
  },
  {
   "cell_type": "markdown",
   "metadata": {},
   "source": [
    "# Save best model for backtesting"
   ]
  },
  {
   "cell_type": "code",
   "execution_count": null,
   "metadata": {},
   "outputs": [],
   "source": []
  },
  {
   "cell_type": "markdown",
   "metadata": {},
   "source": [
    "# Backtester"
   ]
  },
  {
   "cell_type": "code",
   "execution_count": null,
   "metadata": {},
   "outputs": [],
   "source": []
  }
 ],
 "metadata": {
  "kernelspec": {
   "display_name": "cbtrader",
   "language": "python",
   "name": "python3"
  },
  "language_info": {
   "codemirror_mode": {
    "name": "ipython",
    "version": 3
   },
   "file_extension": ".py",
   "mimetype": "text/x-python",
   "name": "python",
   "nbconvert_exporter": "python",
   "pygments_lexer": "ipython3",
   "version": "3.8.18"
  }
 },
 "nbformat": 4,
 "nbformat_minor": 2
}
