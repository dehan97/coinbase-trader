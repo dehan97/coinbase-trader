{
 "cells": [
  {
   "cell_type": "code",
   "execution_count": 1,
   "metadata": {},
   "outputs": [
    {
     "name": "stderr",
     "output_type": "stream",
     "text": [
      "C:\\Users\\thede\\AppData\\Roaming\\Python\\Python38\\site-packages\\tqdm\\auto.py:22: TqdmWarning: IProgress not found. Please update jupyter and ipywidgets. See https://ipywidgets.readthedocs.io/en/stable/user_install.html\n",
      "  from .autonotebook import tqdm as notebook_tqdm\n"
     ]
    }
   ],
   "source": [
    "from datetime import datetime, timedelta\n",
    "import pandas as pd\n",
    "import sqlite3\n",
    "from concurrent.futures import ThreadPoolExecutor, as_completed\n",
    "from tqdm import tqdm\n",
    "import matplotlib.pyplot as plt\n",
    "import ta\n",
    "import yfinance as yf\n",
    "import seaborn as sns\n",
    "import numpy as np\n",
    "from queue import Queue\n",
    "import holidays\n",
    "import scipy as sp\n",
    "from itertools import combinations\n",
    "from pymongo import MongoClient\n",
    "import swifter\n",
    "\n",
    "from sklearn.decomposition import PCA\n",
    "from sklearn.preprocessing import StandardScaler\n",
    "from sklearn.impute import SimpleImputer\n",
    "from sklearn.compose import ColumnTransformer\n",
    "from sklearn.pipeline import Pipeline\n",
    "from sklearn.preprocessing import OneHotEncoder"
   ]
  },
  {
   "cell_type": "code",
   "execution_count": 2,
   "metadata": {},
   "outputs": [],
   "source": [
    "from helper.client import *\n",
    "from helper.machinelearner import *\n",
    "from helper.dbmgr import *\n",
    "from helper.dataprocessor import *\n",
    "\n",
    "# Create an instance of CoinbaseClient\n",
    "client = CoinbaseClient(api_key, api_secret)"
   ]
  },
  {
   "cell_type": "code",
   "execution_count": 3,
   "metadata": {},
   "outputs": [],
   "source": [
    "db_uri = 'mongodb://localhost:27017/'  \n",
    "db_name = 'crypto_data'  "
   ]
  },
  {
   "cell_type": "markdown",
   "metadata": {},
   "source": [
    "# Get and format data from CB"
   ]
  },
  {
   "cell_type": "code",
   "execution_count": 4,
   "metadata": {},
   "outputs": [
    {
     "name": "stdout",
     "output_type": "stream",
     "text": [
      "65e33f009cf514fa37126215\n"
     ]
    }
   ],
   "source": [
    "import pymongo\n",
    "\n",
    "myclient = pymongo.MongoClient(\"mongodb://localhost:27017/\")\n",
    "mydb = myclient[\"mydatabase\"]\n",
    "mycol = mydb[\"customers\"]\n",
    "mydict = { \"name\": \"John\", \"address\": \"Highway 37\" }\n",
    "\n",
    "x = mycol.insert_one(mydict)\n",
    "\n",
    "print(x.inserted_id)"
   ]
  },
  {
   "cell_type": "code",
   "execution_count": 5,
   "metadata": {},
   "outputs": [
    {
     "name": "stdout",
     "output_type": "stream",
     "text": [
      "Checking the number of documents in each collection...\n",
      "Collection 'crypto_candles_fifteen_minute' has 0 documents.\n",
      "Collection 'crypto_candles_thirty_minute' has 0 documents.\n",
      "Collection 'crypto_candles_one_hour' has 0 documents.\n",
      "Collection 'crypto_candles_two_hour' has 0 documents.\n",
      "Collection 'crypto_candles_six_hour' has 0 documents.\n",
      "Collection 'crypto_candles_one_day' has 0 documents.\n",
      "None\n",
      "Preparing to fetch and store data...\n"
     ]
    }
   ],
   "source": [
    "unique_pids = client.get_unique_product_ids()\n",
    "unique_pids = [f\"{i}-{'USDC'}\" for i in unique_pids]\n",
    "\n",
    "# start_time = datetime(2022, 10, 1)\n",
    "start_time = datetime(2024, 1, 1)\n",
    "end_time = datetime(2024, 2, 29)\n",
    "\n",
    "db_manager = DatabaseManager(start_time=start_time, end_time=end_time)\n",
    "print(db_manager.check_row_counts())\n",
    "\n",
    "db_manager.main(unique_pids)"
   ]
  },
  {
   "cell_type": "markdown",
   "metadata": {},
   "source": [
    "# Technical Indicator creation"
   ]
  },
  {
   "cell_type": "code",
   "execution_count": null,
   "metadata": {},
   "outputs": [
    {
     "name": "stderr",
     "output_type": "stream",
     "text": [
      "Processing Collections: 100%|██████████| 6/6 [01:33<00:00, 15.61s/it]\n"
     ]
    }
   ],
   "source": [
    "fe = FeatureEngineer(db_name)\n",
    "processed_data = fe.run()"
   ]
  },
  {
   "cell_type": "markdown",
   "metadata": {},
   "source": [
    "# Preprocessing creation\n",
    "- Labels\n",
    "- Scaling\n",
    "- Normalisation\n",
    "- Stationary features"
   ]
  },
  {
   "cell_type": "code",
   "execution_count": null,
   "metadata": {},
   "outputs": [],
   "source": [
    "data_preparator = DataPreparator(db_name)\n",
    "\n",
    "# Prepare the data\n",
    "final_data, non_stationary_columns = data_preparator.prepare_data()"
   ]
  },
  {
   "cell_type": "code",
   "execution_count": null,
   "metadata": {},
   "outputs": [],
   "source": [
    "### label generation\n",
    "\n",
    "label_generator = LabelGenerator(mongo_uri='mongodb://localhost:27017/',\n",
    "                                  db_name='crypto_data', account_value=5000,\n",
    "                                    tx_fee=0.006, profit_level=0.003)\n",
    "\n",
    "label_generator = LabelGenerator(mongo_uri='mongodb://localhost:27017/', db_name='crypto_data', account_value=5000, tx_fee=0.006, profit_level=0.003)\n",
    "\n",
    "# Specify the collection name where you want to save the labeled data\n",
    "collection_name = 'labeled_crypto_data'\n",
    "\n",
    "# Get the list of instruments from the database\n",
    "instruments = label_generator.get_instruments()\n",
    "\n",
    "# Iterate through each instrument and generate labels\n",
    "for instrument in instruments:\n",
    "    # Fetch data for the instrument\n",
    "    df = label_generator.fetch_data(instrument)\n",
    "\n",
    "    # Check if there's enough data to process\n",
    "    if not df.empty:\n",
    "        # Process the data to generate labels for this specific instrument\n",
    "        for granularity in label_generator.granularities:\n",
    "            df_granularity = df[df['granularity'] == granularity]\n",
    "\n",
    "            for window_size in [15, 30, 45, 60]:\n",
    "                if not df_granularity.empty:\n",
    "                    result_df = label_generator.calculate_targets(df_granularity.copy(), window_size)\n",
    "                    result_df['instrument'] = instrument\n",
    "                    result_df['granularity'] = granularity\n",
    "                    result_df['window_size'] = window_size\n",
    "\n",
    "                    # Save the labeled data for this instrument to the MongoDB collection\n",
    "                    label_generator.save_to_database(result_df, collection_name)\n",
    "\n",
    "                    # Optional: Print a message to confirm data has been saved\n",
    "                    print(f\"Saved labeled data for {instrument} with granularity {granularity} and window size {window_size} to {collection_name}\")\n"
   ]
  },
  {
   "cell_type": "markdown",
   "metadata": {},
   "source": [
    "# Machine Learning on one set of parameters\n",
    "- Grid Search for best parameters\n",
    "- view feature importance on the best set and trim"
   ]
  },
  {
   "cell_type": "code",
   "execution_count": null,
   "metadata": {},
   "outputs": [],
   "source": [
    "mongo_uri = 'mongodb://localhost:27017/'  # Adjust as necessary\n",
    "db_name = 'crypto_data'  # Your database name\n",
    "collection_name = 'labeled_crypto_data'  # Your collection name\n",
    "target_column = 'target15'  # Your target column name\n",
    "\n",
    "trainer = MongoDBMLModelTrainer(mongo_uri, db_name, collection_name, target_column)\n",
    "trainer.train_and_evaluate()"
   ]
  },
  {
   "cell_type": "markdown",
   "metadata": {},
   "source": [
    "# Save best model for backtesting"
   ]
  },
  {
   "cell_type": "code",
   "execution_count": null,
   "metadata": {},
   "outputs": [],
   "source": []
  },
  {
   "cell_type": "markdown",
   "metadata": {},
   "source": [
    "# Backtester"
   ]
  },
  {
   "cell_type": "code",
   "execution_count": null,
   "metadata": {},
   "outputs": [],
   "source": []
  }
 ],
 "metadata": {
  "kernelspec": {
   "display_name": "cbtrader",
   "language": "python",
   "name": "python3"
  },
  "language_info": {
   "codemirror_mode": {
    "name": "ipython",
    "version": 3
   },
   "file_extension": ".py",
   "mimetype": "text/x-python",
   "name": "python",
   "nbconvert_exporter": "python",
   "pygments_lexer": "ipython3",
   "version": "3.8.18"
  }
 },
 "nbformat": 4,
 "nbformat_minor": 2
}
