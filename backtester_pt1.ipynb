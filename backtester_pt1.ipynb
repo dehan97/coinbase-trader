{
 "cells": [
  {
   "cell_type": "code",
   "execution_count": 1,
   "metadata": {},
   "outputs": [],
   "source": [
    "from datetime import datetime, timedelta\n",
    "import pandas as pd\n",
    "import sqlite3\n",
    "from concurrent.futures import ThreadPoolExecutor, as_completed\n",
    "from tqdm import tqdm\n",
    "import matplotlib.pyplot as plt\n",
    "import ta\n",
    "import yfinance as yf\n",
    "import seaborn as sns\n",
    "import numpy as np\n",
    "from queue import Queue\n",
    "import holidays\n",
    "import scipy as sp\n",
    "from itertools import combinations\n",
    "from pymongo import MongoClient\n",
    "\n",
    "from sklearn.decomposition import PCA\n",
    "from sklearn.preprocessing import StandardScaler\n",
    "from sklearn.impute import SimpleImputer\n",
    "from sklearn.compose import ColumnTransformer\n",
    "from sklearn.pipeline import Pipeline\n",
    "from sklearn.preprocessing import OneHotEncoder"
   ]
  },
  {
   "cell_type": "code",
   "execution_count": 2,
   "metadata": {},
   "outputs": [],
   "source": [
    "from helper.client import *\n",
    "from helper.machinelearner import *\n",
    "from helper.dbmgr import *\n",
    "from helper.dataprocessor import *\n",
    "\n",
    "# Create an instance of CoinbaseClient\n",
    "client = CoinbaseClient(api_key, api_secret)"
   ]
  },
  {
   "cell_type": "markdown",
   "metadata": {},
   "source": [
    "# Get and format data from CB"
   ]
  },
  {
   "cell_type": "code",
   "execution_count": 3,
   "metadata": {},
   "outputs": [
    {
     "name": "stdout",
     "output_type": "stream",
     "text": [
      "65d463aeafab67308d1775ba\n"
     ]
    }
   ],
   "source": [
    "import pymongo\n",
    "\n",
    "myclient = pymongo.MongoClient(\"mongodb://localhost:27017/\")\n",
    "mydb = myclient[\"mydatabase\"]\n",
    "mycol = mydb[\"customers\"]\n",
    "mydict = { \"name\": \"John\", \"address\": \"Highway 37\" }\n",
    "\n",
    "x = mycol.insert_one(mydict)\n",
    "\n",
    "print(x.inserted_id)"
   ]
  },
  {
   "cell_type": "code",
   "execution_count": 4,
   "metadata": {},
   "outputs": [
    {
     "name": "stdout",
     "output_type": "stream",
     "text": [
      "Checking the number of documents in each collection...\n",
      "Collection 'crypto_candles_one_minute' has 130761 documents.\n",
      "Collection 'crypto_candles_five_minute' has 26473 documents.\n",
      "Collection 'crypto_candles_fifteen_minute' has 9592 documents.\n",
      "Collection 'crypto_candles_thirty_minute' has 4767 documents.\n",
      "Collection 'crypto_candles_one_hour' has 2308 documents.\n",
      "Collection 'crypto_candles_two_hour' has 1193 documents.\n",
      "Collection 'crypto_candles_six_hour' has 384 documents.\n",
      "Collection 'crypto_candles_one_day' has 48 documents.\n",
      "None\n",
      "Preparing to fetch and store data...\n"
     ]
    }
   ],
   "source": [
    "unique_pids = client.get_unique_product_ids()\n",
    "unique_pids = [f\"{i}-{'USDC'}\" for i in unique_pids]\n",
    "\n",
    "# start_time = datetime(2022, 10, 1)\n",
    "start_time = datetime(2024, 2, 14)\n",
    "end_time = datetime(2024, 2, 15)\n",
    "\n",
    "db_manager = DatabaseManager(start_time=start_time, end_time=end_time)\n",
    "print(db_manager.check_row_counts())\n",
    "\n",
    "db_manager.main(unique_pids)"
   ]
  },
  {
   "cell_type": "markdown",
   "metadata": {},
   "source": [
    "# Data Processing"
   ]
  },
  {
   "cell_type": "code",
   "execution_count": null,
   "metadata": {},
   "outputs": [],
   "source": [
    "db_uri = 'mongodb://localhost:27017/'  \n",
    "db_name = 'crypto_data'  \n",
    "\n",
    "fe = FeatureEngineer(db_name)\n",
    "processed_data = fe.run()"
   ]
  },
  {
   "cell_type": "code",
   "execution_count": null,
   "metadata": {},
   "outputs": [],
   "source": []
  }
 ],
 "metadata": {
  "kernelspec": {
   "display_name": "cbtrader",
   "language": "python",
   "name": "python3"
  },
  "language_info": {
   "codemirror_mode": {
    "name": "ipython",
    "version": 3
   },
   "file_extension": ".py",
   "mimetype": "text/x-python",
   "name": "python",
   "nbconvert_exporter": "python",
   "pygments_lexer": "ipython3",
   "version": "3.8.18"
  }
 },
 "nbformat": 4,
 "nbformat_minor": 2
}
